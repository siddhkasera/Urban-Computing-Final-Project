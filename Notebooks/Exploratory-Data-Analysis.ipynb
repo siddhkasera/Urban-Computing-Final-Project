{
 "cells": [
  {
   "cell_type": "code",
   "execution_count": 5,
   "id": "6a40bb4d-be7d-49e5-b123-df83d19124e1",
   "metadata": {},
   "outputs": [],
   "source": [
    "import pandas as pd\n",
    "import matplotlib.pyplot as plt\n",
    "import seaborn as sns"
   ]
  },
  {
   "cell_type": "markdown",
   "id": "ff0dc987-d665-4ff7-8fd6-3a4c496206a3",
   "metadata": {},
   "source": [
    "# EDA for Database 1 - https://catalog.data.gov/dataset/violence-reduction-victim-demographics-aggregated"
   ]
  },
  {
   "cell_type": "code",
   "execution_count": 6,
   "id": "447a6884-8706-4b42-829f-2cdb90527948",
   "metadata": {},
   "outputs": [
    {
     "name": "stdout",
     "output_type": "stream",
     "text": [
      "  TIME_PERIOD TIME_PERIOD_START TIME_PERIOD_END             PRIMARY_TYPE  \\\n",
      "0     2011 Q1        01/01/2011      03/31/2011                 HOMICIDE   \n",
      "1     2000 Q4        10/01/2000      12/31/2000                 HOMICIDE   \n",
      "2     1992 Q4        10/01/1992      12/31/1992                 HOMICIDE   \n",
      "3     2012 Q4        10/01/2012      12/31/2012                  BATTERY   \n",
      "4     2003 Q2        03/01/2003      06/30/2003  CRIMINAL SEXUAL ASSAULT   \n",
      "\n",
      "     AGE      SEX     RACE JUVENILE_I DOMESTIC_I GUNSHOT_INJURY_I  \\\n",
      "0  30-39        M      BLK      False      False               NO   \n",
      "1  70-79        M      WHI      False      False               NO   \n",
      "2  70-79        M      WHI      False      False               NO   \n",
      "3  20-29  UNKNOWN  UNKNOWN      False      False               NO   \n",
      "4   0-19        F      WWH       True      False          UNKNOWN   \n",
      "\n",
      "   NUMBER_OF_VICTIMS  \n",
      "0                1.0  \n",
      "1                2.0  \n",
      "2                1.0  \n",
      "3                1.0  \n",
      "4               42.0  \n"
     ]
    }
   ],
   "source": [
    "# Load the dataset\n",
    "data = pd.read_csv('Violence_Reduction_Victim_Demographics_Aggregated.csv')\n",
    "# Inspect the data\n",
    "print(data.head())"
   ]
  },
  {
   "cell_type": "code",
   "execution_count": 7,
   "id": "ca0e5e8d-a570-483e-b3b4-a9ff1d272746",
   "metadata": {},
   "outputs": [
    {
     "name": "stdout",
     "output_type": "stream",
     "text": [
      "<class 'pandas.core.frame.DataFrame'>\n",
      "RangeIndex: 14792 entries, 0 to 14791\n",
      "Data columns (total 11 columns):\n",
      " #   Column             Non-Null Count  Dtype  \n",
      "---  ------             --------------  -----  \n",
      " 0   TIME_PERIOD        14792 non-null  object \n",
      " 1   TIME_PERIOD_START  14791 non-null  object \n",
      " 2   TIME_PERIOD_END    14791 non-null  object \n",
      " 3   PRIMARY_TYPE       14791 non-null  object \n",
      " 4   AGE                14791 non-null  object \n",
      " 5   SEX                14791 non-null  object \n",
      " 6   RACE               14791 non-null  object \n",
      " 7   JUVENILE_I         14012 non-null  object \n",
      " 8   DOMESTIC_I         14791 non-null  object \n",
      " 9   GUNSHOT_INJURY_I   14791 non-null  object \n",
      " 10  NUMBER_OF_VICTIMS  14791 non-null  float64\n",
      "dtypes: float64(1), object(10)\n",
      "memory usage: 1.2+ MB\n",
      "None\n"
     ]
    }
   ],
   "source": [
    "print(data.info())"
   ]
  },
  {
   "cell_type": "code",
   "execution_count": 8,
   "id": "4365c817-8e69-4133-b041-e6ff3a00c3fc",
   "metadata": {},
   "outputs": [
    {
     "name": "stdout",
     "output_type": "stream",
     "text": [
      "       NUMBER_OF_VICTIMS\n",
      "count       14791.000000\n",
      "mean           15.760733\n",
      "std            37.178062\n",
      "min             1.000000\n",
      "25%             1.000000\n",
      "50%             3.000000\n",
      "75%            12.000000\n",
      "max           520.000000\n"
     ]
    }
   ],
   "source": [
    "print(data.describe())"
   ]
  },
  {
   "cell_type": "code",
   "execution_count": 9,
   "id": "d275c3d6-c241-4231-8045-f3a8a09f905c",
   "metadata": {},
   "outputs": [],
   "source": [
    "data_cleaned = data.dropna()"
   ]
  },
  {
   "cell_type": "code",
   "execution_count": 10,
   "id": "3df5cfe1-098d-4212-83e4-ea27de15671c",
   "metadata": {},
   "outputs": [
    {
     "name": "stdout",
     "output_type": "stream",
     "text": [
      "Rows with missing values removed. Dataset info:\n",
      "<class 'pandas.core.frame.DataFrame'>\n",
      "Index: 14012 entries, 0 to 14790\n",
      "Data columns (total 11 columns):\n",
      " #   Column             Non-Null Count  Dtype  \n",
      "---  ------             --------------  -----  \n",
      " 0   TIME_PERIOD        14012 non-null  object \n",
      " 1   TIME_PERIOD_START  14012 non-null  object \n",
      " 2   TIME_PERIOD_END    14012 non-null  object \n",
      " 3   PRIMARY_TYPE       14012 non-null  object \n",
      " 4   AGE                14012 non-null  object \n",
      " 5   SEX                14012 non-null  object \n",
      " 6   RACE               14012 non-null  object \n",
      " 7   JUVENILE_I         14012 non-null  object \n",
      " 8   DOMESTIC_I         14012 non-null  object \n",
      " 9   GUNSHOT_INJURY_I   14012 non-null  object \n",
      " 10  NUMBER_OF_VICTIMS  14012 non-null  float64\n",
      "dtypes: float64(1), object(10)\n",
      "memory usage: 1.3+ MB\n"
     ]
    }
   ],
   "source": [
    "print(\"Rows with missing values removed. Dataset info:\")\n",
    "data_cleaned.info()"
   ]
  },
  {
   "cell_type": "code",
   "execution_count": 11,
   "id": "229c2f7b-91c9-4f76-ad80-f2dcc140f376",
   "metadata": {},
   "outputs": [
    {
     "name": "stdout",
     "output_type": "stream",
     "text": [
      "\n",
      "Sample of Cleaned Data:\n",
      "  TIME_PERIOD TIME_PERIOD_START TIME_PERIOD_END             PRIMARY_TYPE  \\\n",
      "0     2011 Q1        01/01/2011      03/31/2011                 HOMICIDE   \n",
      "1     2000 Q4        10/01/2000      12/31/2000                 HOMICIDE   \n",
      "2     1992 Q4        10/01/1992      12/31/1992                 HOMICIDE   \n",
      "3     2012 Q4        10/01/2012      12/31/2012                  BATTERY   \n",
      "4     2003 Q2        03/01/2003      06/30/2003  CRIMINAL SEXUAL ASSAULT   \n",
      "\n",
      "     AGE      SEX     RACE JUVENILE_I DOMESTIC_I GUNSHOT_INJURY_I  \\\n",
      "0  30-39        M      BLK      False      False               NO   \n",
      "1  70-79        M      WHI      False      False               NO   \n",
      "2  70-79        M      WHI      False      False               NO   \n",
      "3  20-29  UNKNOWN  UNKNOWN      False      False               NO   \n",
      "4   0-19        F      WWH       True      False          UNKNOWN   \n",
      "\n",
      "   NUMBER_OF_VICTIMS  \n",
      "0                1.0  \n",
      "1                2.0  \n",
      "2                1.0  \n",
      "3                1.0  \n",
      "4               42.0  \n"
     ]
    }
   ],
   "source": [
    "print(\"\\nSample of Cleaned Data:\")\n",
    "print(data_cleaned.head())"
   ]
  },
  {
   "cell_type": "code",
   "execution_count": 12,
   "id": "65981c0b-aa7e-41da-a9b1-9fdfdf99f87d",
   "metadata": {},
   "outputs": [
    {
     "name": "stdout",
     "output_type": "stream",
     "text": [
      "There are no missing (null) values in the dataset.\n",
      "\n",
      "Missing values per column:\n",
      "TIME_PERIOD          0\n",
      "TIME_PERIOD_START    0\n",
      "TIME_PERIOD_END      0\n",
      "PRIMARY_TYPE         0\n",
      "AGE                  0\n",
      "SEX                  0\n",
      "RACE                 0\n",
      "JUVENILE_I           0\n",
      "DOMESTIC_I           0\n",
      "GUNSHOT_INJURY_I     0\n",
      "NUMBER_OF_VICTIMS    0\n",
      "dtype: int64\n"
     ]
    }
   ],
   "source": [
    "# Check for null values\n",
    "if data_cleaned.isnull().sum().sum() == 0:\n",
    "    print(\"There are no missing (null) values in the dataset.\")\n",
    "else:\n",
    "    print(\"The dataset contains missing (null) values.\")\n",
    "\n",
    "# Optional: Display the count of missing values per column\n",
    "print(\"\\nMissing values per column:\")\n",
    "print(data_cleaned.isnull().sum())"
   ]
  },
  {
   "cell_type": "code",
   "execution_count": 13,
   "id": "c1e1d5e9-e351-49a8-9b78-a152cbca8d08",
   "metadata": {},
   "outputs": [
    {
     "name": "stdout",
     "output_type": "stream",
     "text": [
      "There are no missing (null) or 'unknown' values in the dataset.\n",
      "\n",
      "Sample of Cleaned Data:\n",
      "  TIME_PERIOD TIME_PERIOD_START TIME_PERIOD_END PRIMARY_TYPE    AGE SEX RACE  \\\n",
      "0     2011 Q1        01/01/2011      03/31/2011     HOMICIDE  30-39   M  BLK   \n",
      "1     2000 Q4        10/01/2000      12/31/2000     HOMICIDE  70-79   M  WHI   \n",
      "2     1992 Q4        10/01/1992      12/31/1992     HOMICIDE  70-79   M  WHI   \n",
      "6     2015 Q4        10/01/2015      12/31/2015      ROBBERY  30-39   F  API   \n",
      "7     2017 Q4        10/01/2017      12/31/2017      ASSAULT   0-19   M  WWH   \n",
      "\n",
      "  JUVENILE_I DOMESTIC_I GUNSHOT_INJURY_I  NUMBER_OF_VICTIMS  \n",
      "0      False      False               NO                1.0  \n",
      "1      False      False               NO                2.0  \n",
      "2      False      False               NO                1.0  \n",
      "6      False      False               NO                9.0  \n",
      "7      False       True               NO                2.0  \n"
     ]
    }
   ],
   "source": [
    "# Remove rows with the value \"unknown\" in any column\n",
    "data_cleaned = data_cleaned[(data_cleaned != \"UNKNOWN\").all(axis=1)]\n",
    "\n",
    "# Check if there are any null or \"unknown\" values left\n",
    "if data_cleaned.isnull().sum().sum() == 0 and not (data_cleaned == \"UNKNOWN\").any().any():\n",
    "    print(\"There are no missing (null) or 'unknown' values in the dataset.\")\n",
    "else:\n",
    "    print(\"The dataset still contains missing (null) or 'unknown' values.\")\n",
    "\n",
    "# Optional: Display a sample of the cleaned data\n",
    "print(\"\\nSample of Cleaned Data:\")\n",
    "print(data_cleaned.head())"
   ]
  },
  {
   "cell_type": "code",
   "execution_count": 14,
   "id": "3905558d-f68b-431a-8a6a-cd534c9eddd6",
   "metadata": {},
   "outputs": [
    {
     "name": "stdout",
     "output_type": "stream",
     "text": [
      "The cleaned data has been saved to 'db_one_cleaned.csv'.\n"
     ]
    }
   ],
   "source": [
    "# Define the output file path\n",
    "output_file_path = \"db_one_cleaned.csv\"\n",
    "\n",
    "# Save the cleaned data to a CSV file\n",
    "data_cleaned.to_csv(output_file_path, index=False)\n",
    "\n",
    "# Optional: Confirm that the file has been saved\n",
    "print(f\"The cleaned data has been saved to '{output_file_path}'.\")\n"
   ]
  },
  {
   "cell_type": "markdown",
   "id": "83bececb-e149-4081-9014-c463af6fc497",
   "metadata": {},
   "source": [
    "# EDA for Database 2 - https://catalog.data.gov/dataset/crimes-one-year-prior-to-present"
   ]
  },
  {
   "cell_type": "code",
   "execution_count": 15,
   "id": "b712d8c8-b29b-4bd4-8045-322057110fb4",
   "metadata": {},
   "outputs": [
    {
     "name": "stdout",
     "output_type": "stream",
     "text": [
      "      CASE#     DATE  OF OCCURRENCE                  BLOCK  IUCR  \\\n",
      "0  JH180578  03/07/2024 06:38:00 PM  021XX S PRINCETON AVE  1320   \n",
      "1  JH179103  03/07/2024 02:10:00 PM   059XX N GLENWOOD AVE  0460   \n",
      "2  JH178557  03/07/2024 04:45:00 AM   026XX W ARMITAGE AVE  041A   \n",
      "3  JH179833  03/07/2024 07:00:00 PM        007XX W 74TH ST  0810   \n",
      "4  JH178450  03/07/2024 12:08:00 AM   022XX S TRUMBULL AVE  502P   \n",
      "\n",
      "   PRIMARY DESCRIPTION         SECONDARY DESCRIPTION  \\\n",
      "0      CRIMINAL DAMAGE                    TO VEHICLE   \n",
      "1              BATTERY                        SIMPLE   \n",
      "2              BATTERY          AGGRAVATED - HANDGUN   \n",
      "3                THEFT                     OVER $500   \n",
      "4        OTHER OFFENSE  FALSE / STOLEN / ALTERED TRP   \n",
      "\n",
      "        LOCATION DESCRIPTION ARREST DOMESTIC  BEAT  WARD FBI CD  X COORDINATE  \\\n",
      "0  NURSING / RETIREMENT HOME      N        N   914    11     14     1174265.0   \n",
      "1   SCHOOL - PUBLIC BUILDING      Y        N  2013    48    08B     1165910.0   \n",
      "2                     STREET      N        N  1421     1    04B     1158387.0   \n",
      "3                     STREET      N        N   732    17     06     1172767.0   \n",
      "4                     STREET      N        N  1024    22     26     1153715.0   \n",
      "\n",
      "   Y COORDINATE   LATITUDE  LONGITUDE                       LOCATION  \n",
      "0     1890173.0  41.854037 -87.635861  (41.854037308, -87.635861095)  \n",
      "1     1939379.0  41.989244 -87.665120  (41.989243623, -87.665119726)  \n",
      "2     1913184.0  41.917521 -87.693510  (41.917520732, -87.693509757)  \n",
      "3     1855810.0  41.759775 -87.642373  (41.759775035, -87.642373275)  \n",
      "4     1888947.0  41.851106 -87.711320  (41.851106306, -87.711320316)  \n"
     ]
    }
   ],
   "source": [
    "data = pd.read_csv('Crimes-One_Year_Prior_to_Present.csv')\n",
    "# Inspect the data\n",
    "print(data.head())"
   ]
  },
  {
   "cell_type": "code",
   "execution_count": 16,
   "id": "d3ed3e77-1f1b-4def-8154-ec4e8c1d1c70",
   "metadata": {},
   "outputs": [
    {
     "name": "stdout",
     "output_type": "stream",
     "text": [
      "<class 'pandas.core.frame.DataFrame'>\n",
      "RangeIndex: 257077 entries, 0 to 257076\n",
      "Data columns (total 17 columns):\n",
      " #   Column                  Non-Null Count   Dtype  \n",
      "---  ------                  --------------   -----  \n",
      " 0   CASE#                   257077 non-null  object \n",
      " 1   DATE  OF OCCURRENCE     257077 non-null  object \n",
      " 2   BLOCK                   257077 non-null  object \n",
      " 3    IUCR                   257077 non-null  object \n",
      " 4    PRIMARY DESCRIPTION    257077 non-null  object \n",
      " 5    SECONDARY DESCRIPTION  257077 non-null  object \n",
      " 6    LOCATION DESCRIPTION   256032 non-null  object \n",
      " 7   ARREST                  257077 non-null  object \n",
      " 8   DOMESTIC                257077 non-null  object \n",
      " 9   BEAT                    257077 non-null  int64  \n",
      " 10  WARD                    257077 non-null  int64  \n",
      " 11  FBI CD                  257077 non-null  object \n",
      " 12  X COORDINATE            257011 non-null  float64\n",
      " 13  Y COORDINATE            257011 non-null  float64\n",
      " 14  LATITUDE                257011 non-null  float64\n",
      " 15  LONGITUDE               257011 non-null  float64\n",
      " 16  LOCATION                257011 non-null  object \n",
      "dtypes: float64(4), int64(2), object(11)\n",
      "memory usage: 33.3+ MB\n",
      "None\n"
     ]
    }
   ],
   "source": [
    "print(data.info())"
   ]
  },
  {
   "cell_type": "code",
   "execution_count": 17,
   "id": "809e1a45-dae6-4043-99e4-486a76812001",
   "metadata": {},
   "outputs": [
    {
     "name": "stdout",
     "output_type": "stream",
     "text": [
      "                BEAT           WARD  X COORDINATE  Y COORDINATE  \\\n",
      "count  257077.000000  257077.000000  2.570110e+05  2.570110e+05   \n",
      "mean     1157.734737      23.196766  1.165279e+06  1.887745e+06   \n",
      "std       710.063326      13.951958  1.614479e+04  3.159049e+04   \n",
      "min       111.000000       1.000000  1.092647e+06  1.813897e+06   \n",
      "25%       533.000000      10.000000  1.154029e+06  1.860492e+06   \n",
      "50%      1034.000000      23.000000  1.167109e+06  1.894416e+06   \n",
      "75%      1732.000000      34.000000  1.176631e+06  1.910489e+06   \n",
      "max      2535.000000      50.000000  1.205119e+06  1.951493e+06   \n",
      "\n",
      "            LATITUDE      LONGITUDE  \n",
      "count  257011.000000  257011.000000  \n",
      "mean       41.847554     -87.668954  \n",
      "std         0.086868       0.058787  \n",
      "min        41.644590     -87.934567  \n",
      "25%        41.772570     -87.709807  \n",
      "50%        41.866098     -87.661950  \n",
      "75%        41.910103     -87.627395  \n",
      "max        42.022548     -87.524532  \n"
     ]
    }
   ],
   "source": [
    "print(data.describe())"
   ]
  },
  {
   "cell_type": "code",
   "execution_count": 18,
   "id": "874d03a0-6d9b-4569-8641-b314afc58d72",
   "metadata": {},
   "outputs": [
    {
     "name": "stdout",
     "output_type": "stream",
     "text": [
      "                BEAT           WARD  X COORDINATE  Y COORDINATE  \\\n",
      "count  257077.000000  257077.000000  2.570110e+05  2.570110e+05   \n",
      "mean     1157.734737      23.196766  1.165279e+06  1.887745e+06   \n",
      "std       710.063326      13.951958  1.614479e+04  3.159049e+04   \n",
      "min       111.000000       1.000000  1.092647e+06  1.813897e+06   \n",
      "25%       533.000000      10.000000  1.154029e+06  1.860492e+06   \n",
      "50%      1034.000000      23.000000  1.167109e+06  1.894416e+06   \n",
      "75%      1732.000000      34.000000  1.176631e+06  1.910489e+06   \n",
      "max      2535.000000      50.000000  1.205119e+06  1.951493e+06   \n",
      "\n",
      "            LATITUDE      LONGITUDE  \n",
      "count  257011.000000  257011.000000  \n",
      "mean       41.847554     -87.668954  \n",
      "std         0.086868       0.058787  \n",
      "min        41.644590     -87.934567  \n",
      "25%        41.772570     -87.709807  \n",
      "50%        41.866098     -87.661950  \n",
      "75%        41.910103     -87.627395  \n",
      "max        42.022548     -87.524532  \n"
     ]
    }
   ],
   "source": [
    "print(data.describe())"
   ]
  },
  {
   "cell_type": "code",
   "execution_count": 19,
   "id": "480d4898-d987-40d0-995a-21090d9a44d9",
   "metadata": {},
   "outputs": [],
   "source": [
    "data_cleaned = data.dropna()"
   ]
  },
  {
   "cell_type": "code",
   "execution_count": 20,
   "id": "0d9cb5b8-f68d-4b67-85d2-617c7c7fe251",
   "metadata": {},
   "outputs": [
    {
     "name": "stdout",
     "output_type": "stream",
     "text": [
      "Rows with missing values removed. Dataset info:\n",
      "<class 'pandas.core.frame.DataFrame'>\n",
      "Index: 255966 entries, 0 to 257076\n",
      "Data columns (total 17 columns):\n",
      " #   Column                  Non-Null Count   Dtype  \n",
      "---  ------                  --------------   -----  \n",
      " 0   CASE#                   255966 non-null  object \n",
      " 1   DATE  OF OCCURRENCE     255966 non-null  object \n",
      " 2   BLOCK                   255966 non-null  object \n",
      " 3    IUCR                   255966 non-null  object \n",
      " 4    PRIMARY DESCRIPTION    255966 non-null  object \n",
      " 5    SECONDARY DESCRIPTION  255966 non-null  object \n",
      " 6    LOCATION DESCRIPTION   255966 non-null  object \n",
      " 7   ARREST                  255966 non-null  object \n",
      " 8   DOMESTIC                255966 non-null  object \n",
      " 9   BEAT                    255966 non-null  int64  \n",
      " 10  WARD                    255966 non-null  int64  \n",
      " 11  FBI CD                  255966 non-null  object \n",
      " 12  X COORDINATE            255966 non-null  float64\n",
      " 13  Y COORDINATE            255966 non-null  float64\n",
      " 14  LATITUDE                255966 non-null  float64\n",
      " 15  LONGITUDE               255966 non-null  float64\n",
      " 16  LOCATION                255966 non-null  object \n",
      "dtypes: float64(4), int64(2), object(11)\n",
      "memory usage: 35.2+ MB\n"
     ]
    }
   ],
   "source": [
    "print(\"Rows with missing values removed. Dataset info:\")\n",
    "data_cleaned.info()"
   ]
  },
  {
   "cell_type": "code",
   "execution_count": 21,
   "id": "49d22b08-4238-4fca-8599-aa61d1a1c8dd",
   "metadata": {},
   "outputs": [
    {
     "name": "stdout",
     "output_type": "stream",
     "text": [
      "\n",
      "Sample of Cleaned Data:\n",
      "      CASE#     DATE  OF OCCURRENCE                  BLOCK  IUCR  \\\n",
      "0  JH180578  03/07/2024 06:38:00 PM  021XX S PRINCETON AVE  1320   \n",
      "1  JH179103  03/07/2024 02:10:00 PM   059XX N GLENWOOD AVE  0460   \n",
      "2  JH178557  03/07/2024 04:45:00 AM   026XX W ARMITAGE AVE  041A   \n",
      "3  JH179833  03/07/2024 07:00:00 PM        007XX W 74TH ST  0810   \n",
      "4  JH178450  03/07/2024 12:08:00 AM   022XX S TRUMBULL AVE  502P   \n",
      "\n",
      "   PRIMARY DESCRIPTION         SECONDARY DESCRIPTION  \\\n",
      "0      CRIMINAL DAMAGE                    TO VEHICLE   \n",
      "1              BATTERY                        SIMPLE   \n",
      "2              BATTERY          AGGRAVATED - HANDGUN   \n",
      "3                THEFT                     OVER $500   \n",
      "4        OTHER OFFENSE  FALSE / STOLEN / ALTERED TRP   \n",
      "\n",
      "        LOCATION DESCRIPTION ARREST DOMESTIC  BEAT  WARD FBI CD  X COORDINATE  \\\n",
      "0  NURSING / RETIREMENT HOME      N        N   914    11     14     1174265.0   \n",
      "1   SCHOOL - PUBLIC BUILDING      Y        N  2013    48    08B     1165910.0   \n",
      "2                     STREET      N        N  1421     1    04B     1158387.0   \n",
      "3                     STREET      N        N   732    17     06     1172767.0   \n",
      "4                     STREET      N        N  1024    22     26     1153715.0   \n",
      "\n",
      "   Y COORDINATE   LATITUDE  LONGITUDE                       LOCATION  \n",
      "0     1890173.0  41.854037 -87.635861  (41.854037308, -87.635861095)  \n",
      "1     1939379.0  41.989244 -87.665120  (41.989243623, -87.665119726)  \n",
      "2     1913184.0  41.917521 -87.693510  (41.917520732, -87.693509757)  \n",
      "3     1855810.0  41.759775 -87.642373  (41.759775035, -87.642373275)  \n",
      "4     1888947.0  41.851106 -87.711320  (41.851106306, -87.711320316)  \n"
     ]
    }
   ],
   "source": [
    "print(\"\\nSample of Cleaned Data:\")\n",
    "print(data_cleaned.head())"
   ]
  },
  {
   "cell_type": "code",
   "execution_count": 22,
   "id": "cf300168-0ad6-4c10-bba6-8cd72b7903cf",
   "metadata": {},
   "outputs": [
    {
     "name": "stdout",
     "output_type": "stream",
     "text": [
      "There are no missing (null) values in the dataset.\n",
      "\n",
      "Missing values per column:\n",
      "CASE#                     0\n",
      "DATE  OF OCCURRENCE       0\n",
      "BLOCK                     0\n",
      " IUCR                     0\n",
      " PRIMARY DESCRIPTION      0\n",
      " SECONDARY DESCRIPTION    0\n",
      " LOCATION DESCRIPTION     0\n",
      "ARREST                    0\n",
      "DOMESTIC                  0\n",
      "BEAT                      0\n",
      "WARD                      0\n",
      "FBI CD                    0\n",
      "X COORDINATE              0\n",
      "Y COORDINATE              0\n",
      "LATITUDE                  0\n",
      "LONGITUDE                 0\n",
      "LOCATION                  0\n",
      "dtype: int64\n"
     ]
    }
   ],
   "source": [
    "# Check for null values\n",
    "if data_cleaned.isnull().sum().sum() == 0:\n",
    "    print(\"There are no missing (null) values in the dataset.\")\n",
    "else:\n",
    "    print(\"The dataset contains missing (null) values.\")\n",
    "\n",
    "# Optional: Display the count of missing values per column\n",
    "print(\"\\nMissing values per column:\")\n",
    "print(data_cleaned.isnull().sum())"
   ]
  },
  {
   "cell_type": "code",
   "execution_count": 23,
   "id": "6e7db4ed-1fdc-49e5-8899-88bf3d86a9d0",
   "metadata": {},
   "outputs": [
    {
     "name": "stdout",
     "output_type": "stream",
     "text": [
      "The cleaned data has been saved to 'db_two_cleaned.csv'.\n"
     ]
    }
   ],
   "source": [
    "# Define the output file path\n",
    "output_file_path = \"db_two_cleaned.csv\"\n",
    "\n",
    "# Save the cleaned data to a CSV file\n",
    "data_cleaned.to_csv(output_file_path, index=False)\n",
    "\n",
    "# Optional: Confirm that the file has been saved\n",
    "print(f\"The cleaned data has been saved to '{output_file_path}'.\")"
   ]
  },
  {
   "cell_type": "code",
   "execution_count": null,
   "id": "b3ae9c93-ab49-4ac7-ade3-42a3878c7b85",
   "metadata": {},
   "outputs": [],
   "source": []
  }
 ],
 "metadata": {
  "kernelspec": {
   "display_name": "Python 3 (ipykernel)",
   "language": "python",
   "name": "python3"
  },
  "language_info": {
   "codemirror_mode": {
    "name": "ipython",
    "version": 3
   },
   "file_extension": ".py",
   "mimetype": "text/x-python",
   "name": "python",
   "nbconvert_exporter": "python",
   "pygments_lexer": "ipython3",
   "version": "3.11.5"
  }
 },
 "nbformat": 4,
 "nbformat_minor": 5
}
